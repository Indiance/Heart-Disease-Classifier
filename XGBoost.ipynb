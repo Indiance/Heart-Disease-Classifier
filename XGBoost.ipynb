{
 "cells": [
  {
   "cell_type": "code",
   "execution_count": 1,
   "id": "723113fe-ce26-4715-8347-24dd789ee795",
   "metadata": {},
   "outputs": [],
   "source": [
    "import pandas as pd\n",
    "import numpy as np\n",
    "import sklearn"
   ]
  },
  {
   "cell_type": "code",
   "execution_count": 2,
   "id": "3dbe89da-e8cd-4946-aee9-178aa5647cd0",
   "metadata": {},
   "outputs": [],
   "source": [
    "df = pd.read_csv(\"heart_train.csv\")"
   ]
  },
  {
   "cell_type": "code",
   "execution_count": 3,
   "id": "639cc1c8-70f7-48ba-a7e2-ef8e89d106a7",
   "metadata": {},
   "outputs": [
    {
     "name": "stdout",
     "output_type": "stream",
     "text": [
      "<class 'pandas.core.frame.DataFrame'>\n",
      "RangeIndex: 734 entries, 0 to 733\n",
      "Data columns (total 12 columns):\n",
      " #   Column          Non-Null Count  Dtype  \n",
      "---  ------          --------------  -----  \n",
      " 0   Age             734 non-null    int64  \n",
      " 1   Sex             734 non-null    object \n",
      " 2   ChestPainType   734 non-null    object \n",
      " 3   RestingBP       734 non-null    int64  \n",
      " 4   Cholesterol     734 non-null    int64  \n",
      " 5   FastingBS       734 non-null    int64  \n",
      " 6   RestingECG      734 non-null    object \n",
      " 7   MaxHR           734 non-null    int64  \n",
      " 8   ExerciseAngina  734 non-null    object \n",
      " 9   Oldpeak         734 non-null    float64\n",
      " 10  ST_Slope        734 non-null    object \n",
      " 11  HeartDisease    734 non-null    int64  \n",
      "dtypes: float64(1), int64(6), object(5)\n",
      "memory usage: 68.9+ KB\n"
     ]
    }
   ],
   "source": [
    "df.info()"
   ]
  },
  {
   "cell_type": "code",
   "execution_count": 4,
   "id": "40d3d8bd-3977-4066-8ac0-a84eddb1b9c0",
   "metadata": {},
   "outputs": [],
   "source": [
    "X = df.drop('HeartDisease', axis=1)\n",
    "y = df['HeartDisease']\n",
    "# classify the variables between numerical and categorical\n",
    "categorical_features = X.select_dtypes(include=['object']).columns\n",
    "numerical_features = X.select_dtypes(include=['int64', 'float64']).columns"
   ]
  },
  {
   "cell_type": "code",
   "execution_count": 5,
   "id": "36f70d64-59a8-4df6-85eb-9ec56c33c481",
   "metadata": {},
   "outputs": [],
   "source": [
    "from sklearn.preprocessing import StandardScaler,OneHotEncoder\n",
    "from sklearn.compose import ColumnTransformer"
   ]
  },
  {
   "cell_type": "code",
   "execution_count": 6,
   "id": "385b5988-3997-4b45-8a1a-261093809f81",
   "metadata": {},
   "outputs": [],
   "source": [
    "numerical_transformer = StandardScaler()\n",
    "categorical_transformer = OneHotEncoder(handle_unknown='ignore', drop='first')\n",
    "\n",
    "preprocessor = ColumnTransformer(\n",
    "    transformers=[\n",
    "        ('num', numerical_transformer, numerical_features),\n",
    "        ('cat', categorical_transformer, categorical_features)\n",
    "    ],\n",
    "    remainder='passthrough'\n",
    ")"
   ]
  },
  {
   "cell_type": "code",
   "execution_count": 7,
   "id": "5f885673-6153-4204-96f1-7704da25cdf8",
   "metadata": {},
   "outputs": [],
   "source": [
    "from xgboost import XGBClassifier\n",
    "from sklearn.pipeline import Pipeline"
   ]
  },
  {
   "cell_type": "code",
   "execution_count": 8,
   "id": "4a918582-2f3a-45dc-9404-a812b8dc0d29",
   "metadata": {},
   "outputs": [],
   "source": [
    "model_pipeline = Pipeline(steps=[\n",
    "    ('pre', preprocessor),\n",
    "    ('clf', XGBClassifier(eval_metric='logloss'))\n",
    "])"
   ]
  },
  {
   "cell_type": "code",
   "execution_count": 9,
   "id": "3244963e-85cd-4903-9dac-5646ecda186d",
   "metadata": {},
   "outputs": [
    {
     "data": {
      "text/plain": [
       "HeartDisease\n",
       "1    0.553134\n",
       "0    0.446866\n",
       "Name: proportion, dtype: float64"
      ]
     },
     "execution_count": 9,
     "metadata": {},
     "output_type": "execute_result"
    }
   ],
   "source": [
    "y.value_counts(normalize=True)"
   ]
  },
  {
   "cell_type": "code",
   "execution_count": 10,
   "id": "41c6b9d3-33dd-4dcf-9d21-d37a03388cd3",
   "metadata": {},
   "outputs": [],
   "source": [
    "from sklearn.model_selection import train_test_split"
   ]
  },
  {
   "cell_type": "code",
   "execution_count": 11,
   "id": "9dfc7d1b-fffc-43ce-a2bd-066c49a215e0",
   "metadata": {},
   "outputs": [],
   "source": [
    "X_train, X_val, y_train, y_val = train_test_split(X, y, test_size=0.2, random_state=42, stratify=y)"
   ]
  },
  {
   "cell_type": "code",
   "execution_count": 12,
   "id": "20ad42f7-9089-4050-8892-e81bde0be46a",
   "metadata": {},
   "outputs": [
    {
     "data": {
      "text/plain": [
       "HeartDisease\n",
       "1    0.553663\n",
       "0    0.446337\n",
       "Name: proportion, dtype: float64"
      ]
     },
     "execution_count": 12,
     "metadata": {},
     "output_type": "execute_result"
    }
   ],
   "source": [
    "y_train.value_counts(normalize=True)"
   ]
  },
  {
   "cell_type": "code",
   "execution_count": 13,
   "id": "b1831794-7d38-4a42-b299-c85dc82d58f9",
   "metadata": {},
   "outputs": [
    {
     "name": "stdout",
     "output_type": "stream",
     "text": [
      "\n",
      "Training set size: 587\n",
      "Validation set size: 147\n"
     ]
    }
   ],
   "source": [
    "print(f\"\\nTraining set size: {X_train.shape[0]}\")\n",
    "print(f\"Validation set size: {X_val.shape[0]}\")"
   ]
  },
  {
   "cell_type": "code",
   "execution_count": 14,
   "id": "b721d3be-c2f6-475d-87f2-a05840847ca6",
   "metadata": {},
   "outputs": [
    {
     "name": "stdout",
     "output_type": "stream",
     "text": [
      "Model training complete.\n"
     ]
    }
   ],
   "source": [
    "model_pipeline.fit(X_train, y_train)\n",
    "print(\"Model training complete.\")"
   ]
  },
  {
   "cell_type": "code",
   "execution_count": 15,
   "id": "6707556a-057d-43bf-82bb-802ddf83982a",
   "metadata": {},
   "outputs": [
    {
     "name": "stdout",
     "output_type": "stream",
     "text": [
      "\n",
      "Evaluating model on the validation set...\n"
     ]
    }
   ],
   "source": [
    "print(\"\\nEvaluating model on the validation set...\")\n",
    "y_pred_val = model_pipeline.predict(X_val)\n",
    "y_pred_proba_val = model_pipeline.predict_proba(X_val)[:, 1]"
   ]
  },
  {
   "cell_type": "code",
   "execution_count": 16,
   "id": "413272e4-580d-43d4-ad6c-76e82e305741",
   "metadata": {},
   "outputs": [],
   "source": [
    "from sklearn.metrics import ( # Changed imports for classification metrics\n",
    "    accuracy_score, confusion_matrix, classification_report,\n",
    "    roc_auc_score, precision_score, recall_score, f1_score\n",
    ")"
   ]
  },
  {
   "cell_type": "code",
   "execution_count": 17,
   "id": "6a23e0a3-71a9-4608-b58c-6b0e8f02ed0b",
   "metadata": {},
   "outputs": [
    {
     "name": "stdout",
     "output_type": "stream",
     "text": [
      "Accuracy: 0.8707\n",
      "Precision: 0.8523\n",
      "Recall: 0.9259\n",
      "F1 Score: 0.8876\n",
      "ROC AUC Score: 0.9076\n",
      "\n",
      "Confusion Matrix:\n",
      " [[53 13]\n",
      " [ 6 75]]\n",
      "\n",
      "Classification Report:\n",
      "               precision    recall  f1-score   support\n",
      "\n",
      "           0       0.90      0.80      0.85        66\n",
      "           1       0.85      0.93      0.89        81\n",
      "\n",
      "    accuracy                           0.87       147\n",
      "   macro avg       0.88      0.86      0.87       147\n",
      "weighted avg       0.87      0.87      0.87       147\n",
      "\n"
     ]
    }
   ],
   "source": [
    "accuracy = accuracy_score(y_val, y_pred_val)\n",
    "precision = precision_score(y_val, y_pred_val)\n",
    "recall = recall_score(y_val, y_pred_val)\n",
    "f1 = f1_score(y_val, y_pred_val)\n",
    "roc_auc = roc_auc_score(y_val, y_pred_proba_val)\n",
    "conf_matrix = confusion_matrix(y_val, y_pred_val)\n",
    "class_report = classification_report(y_val, y_pred_val)\n",
    "print(f\"Accuracy: {accuracy:.4f}\")\n",
    "print(f\"Precision: {precision:.4f}\")\n",
    "print(f\"Recall: {recall:.4f}\")\n",
    "print(f\"F1 Score: {f1:.4f}\")\n",
    "print(f\"ROC AUC Score: {roc_auc:.4f}\")\n",
    "print(\"\\nConfusion Matrix:\\n\", conf_matrix)\n",
    "print(\"\\nClassification Report:\\n\", class_report)"
   ]
  },
  {
   "cell_type": "code",
   "execution_count": null,
   "id": "78273a89-334a-4ad0-95d8-cca3873dff91",
   "metadata": {},
   "outputs": [],
   "source": []
  }
 ],
 "metadata": {
  "kernelspec": {
   "display_name": "Python 3 (ipykernel)",
   "language": "python",
   "name": "python3"
  },
  "language_info": {
   "codemirror_mode": {
    "name": "ipython",
    "version": 3
   },
   "file_extension": ".py",
   "mimetype": "text/x-python",
   "name": "python",
   "nbconvert_exporter": "python",
   "pygments_lexer": "ipython3",
   "version": "3.13.3"
  }
 },
 "nbformat": 4,
 "nbformat_minor": 5
}
